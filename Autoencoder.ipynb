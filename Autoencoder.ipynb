{
 "cells": [
  {
   "cell_type": "code",
   "execution_count": 1,
   "metadata": {},
   "outputs": [
    {
     "name": "stderr",
     "output_type": "stream",
     "text": [
      "Using TensorFlow backend.\n"
     ]
    }
   ],
   "source": [
    "import keras"
   ]
  },
  {
   "cell_type": "code",
   "execution_count": 2,
   "metadata": {},
   "outputs": [],
   "source": [
    "import matplotlib.pyplot as plt\n",
    "import matplotlib.image as mpimg"
   ]
  },
  {
   "cell_type": "code",
   "execution_count": 3,
   "metadata": {},
   "outputs": [],
   "source": [
    "import pathlib\n",
    "\n",
    "poke_path = pathlib.Path('/Users/deweirich/Desktop/pokemon/main-sprites/firered-leafgreen')"
   ]
  },
  {
   "cell_type": "code",
   "execution_count": 4,
   "metadata": {},
   "outputs": [],
   "source": [
    "bulbasaur = mpimg.imread(open(poke_path / '1.png', 'rb'))"
   ]
  },
  {
   "cell_type": "code",
   "execution_count": 5,
   "metadata": {},
   "outputs": [],
   "source": [
    "import numpy as np"
   ]
  },
  {
   "cell_type": "code",
   "execution_count": 6,
   "metadata": {},
   "outputs": [],
   "source": [
    "pokemon = [\n",
    "    mpimg.imread(open(poke_path / '{}.png'.format(i), 'rb')) for i in range(1, 152)\n",
    "]\n",
    "\n",
    "pokemon = np.array(pokemon)"
   ]
  },
  {
   "cell_type": "code",
   "execution_count": 7,
   "metadata": {},
   "outputs": [],
   "source": [
    "input_dim = bulbasaur.shape\n",
    "input_size = input_dim[0] * input_dim[1] * input_dim[2]"
   ]
  },
  {
   "cell_type": "code",
   "execution_count": 8,
   "metadata": {},
   "outputs": [],
   "source": [
    "from keras.layers import Dense, Reshape\n",
    "from keras import Sequential"
   ]
  },
  {
   "cell_type": "code",
   "execution_count": 9,
   "metadata": {},
   "outputs": [
    {
     "name": "stdout",
     "output_type": "stream",
     "text": [
      "Model: \"sequential_1\"\n",
      "_________________________________________________________________\n",
      "Layer (type)                 Output Shape              Param #   \n",
      "=================================================================\n",
      "reshape_1 (Reshape)          (None, 16384)             0         \n",
      "_________________________________________________________________\n",
      "dense_1 (Dense)              (None, 128)               2097280   \n",
      "_________________________________________________________________\n",
      "dense_2 (Dense)              (None, 64)                8256      \n",
      "_________________________________________________________________\n",
      "dense_3 (Dense)              (None, 128)               8320      \n",
      "_________________________________________________________________\n",
      "dense_4 (Dense)              (None, 16384)             2113536   \n",
      "_________________________________________________________________\n",
      "reshape_2 (Reshape)          (None, 64, 64, 4)         0         \n",
      "=================================================================\n",
      "Total params: 4,227,392\n",
      "Trainable params: 4,227,392\n",
      "Non-trainable params: 0\n",
      "_________________________________________________________________\n"
     ]
    }
   ],
   "source": [
    "model = Sequential()\n",
    "\n",
    "model.add(Reshape((-1, ), input_shape=input_dim))\n",
    "model.add(Dense(128, activation='relu'))\n",
    "model.add(Dense(64, activation='relu'))\n",
    "model.add(Dense(128, activation='relu'))\n",
    "model.add(Dense(input_size, activation='sigmoid'))\n",
    "model.add(Reshape(input_dim))\n",
    "\n",
    "model.summary()"
   ]
  },
  {
   "cell_type": "code",
   "execution_count": 182,
   "metadata": {},
   "outputs": [],
   "source": [
    "model.compile(optimizer='adam', loss='binary_crossentropy')"
   ]
  },
  {
   "cell_type": "code",
   "execution_count": 183,
   "metadata": {},
   "outputs": [
    {
     "name": "stdout",
     "output_type": "stream",
     "text": [
      "Epoch 1/75\n",
      "151/151 [==============================] - 0s 3ms/step - loss: 0.6539\n",
      "Epoch 2/75\n",
      "151/151 [==============================] - 0s 1ms/step - loss: 0.4539\n",
      "Epoch 3/75\n",
      "151/151 [==============================] - 0s 2ms/step - loss: 0.3851\n",
      "Epoch 4/75\n",
      "151/151 [==============================] - 0s 2ms/step - loss: 0.3588\n",
      "Epoch 5/75\n",
      "151/151 [==============================] - 0s 2ms/step - loss: 0.3360\n",
      "Epoch 6/75\n",
      "151/151 [==============================] - 0s 2ms/step - loss: 0.3274\n",
      "Epoch 7/75\n",
      "151/151 [==============================] - 0s 1ms/step - loss: 0.3176\n",
      "Epoch 8/75\n",
      "151/151 [==============================] - 0s 1ms/step - loss: 0.3106\n",
      "Epoch 9/75\n",
      "151/151 [==============================] - 0s 1ms/step - loss: 0.3056\n",
      "Epoch 10/75\n",
      "151/151 [==============================] - 0s 1ms/step - loss: 0.3028\n",
      "Epoch 11/75\n",
      "151/151 [==============================] - 0s 1ms/step - loss: 0.3008\n",
      "Epoch 12/75\n",
      "151/151 [==============================] - 0s 1ms/step - loss: 0.2989\n",
      "Epoch 13/75\n",
      "151/151 [==============================] - 0s 2ms/step - loss: 0.2974\n",
      "Epoch 14/75\n",
      "151/151 [==============================] - 0s 2ms/step - loss: 0.2952\n",
      "Epoch 15/75\n",
      "151/151 [==============================] - 0s 2ms/step - loss: 0.2929\n",
      "Epoch 16/75\n",
      "151/151 [==============================] - 0s 1ms/step - loss: 0.2899\n",
      "Epoch 17/75\n",
      "151/151 [==============================] - 0s 1ms/step - loss: 0.2861\n",
      "Epoch 18/75\n",
      "151/151 [==============================] - 0s 1ms/step - loss: 0.2831\n",
      "Epoch 19/75\n",
      "151/151 [==============================] - 0s 1ms/step - loss: 0.2801\n",
      "Epoch 20/75\n",
      "151/151 [==============================] - 0s 1ms/step - loss: 0.2770\n",
      "Epoch 21/75\n",
      "151/151 [==============================] - 0s 2ms/step - loss: 0.2742\n",
      "Epoch 22/75\n",
      "151/151 [==============================] - 0s 2ms/step - loss: 0.2711\n",
      "Epoch 23/75\n",
      "151/151 [==============================] - 0s 2ms/step - loss: 0.2680\n",
      "Epoch 24/75\n",
      "151/151 [==============================] - 0s 2ms/step - loss: 0.2644\n",
      "Epoch 25/75\n",
      "151/151 [==============================] - 0s 2ms/step - loss: 0.2608\n",
      "Epoch 26/75\n",
      "151/151 [==============================] - 0s 2ms/step - loss: 0.2573\n",
      "Epoch 27/75\n",
      "151/151 [==============================] - 0s 2ms/step - loss: 0.2537\n",
      "Epoch 28/75\n",
      "151/151 [==============================] - 0s 2ms/step - loss: 0.2507\n",
      "Epoch 29/75\n",
      "151/151 [==============================] - 0s 2ms/step - loss: 0.2473\n",
      "Epoch 30/75\n",
      "151/151 [==============================] - 0s 2ms/step - loss: 0.2438\n",
      "Epoch 31/75\n",
      "151/151 [==============================] - 0s 1ms/step - loss: 0.2407\n",
      "Epoch 32/75\n",
      "151/151 [==============================] - 0s 1ms/step - loss: 0.2378\n",
      "Epoch 33/75\n",
      "151/151 [==============================] - 0s 1ms/step - loss: 0.2356\n",
      "Epoch 34/75\n",
      "151/151 [==============================] - 0s 1ms/step - loss: 0.2326\n",
      "Epoch 35/75\n",
      "151/151 [==============================] - 0s 2ms/step - loss: 0.2305\n",
      "Epoch 36/75\n",
      "151/151 [==============================] - 0s 2ms/step - loss: 0.2278\n",
      "Epoch 37/75\n",
      "151/151 [==============================] - 0s 1ms/step - loss: 0.2251\n",
      "Epoch 38/75\n",
      "151/151 [==============================] - 0s 2ms/step - loss: 0.2228\n",
      "Epoch 39/75\n",
      "151/151 [==============================] - 0s 1ms/step - loss: 0.2204\n",
      "Epoch 40/75\n",
      "151/151 [==============================] - 0s 2ms/step - loss: 0.2182\n",
      "Epoch 41/75\n",
      "151/151 [==============================] - 0s 1ms/step - loss: 0.2157\n",
      "Epoch 42/75\n",
      "151/151 [==============================] - 0s 2ms/step - loss: 0.2133\n",
      "Epoch 43/75\n",
      "151/151 [==============================] - 0s 1ms/step - loss: 0.2109\n",
      "Epoch 44/75\n",
      "151/151 [==============================] - 0s 2ms/step - loss: 0.2091\n",
      "Epoch 45/75\n",
      "151/151 [==============================] - 0s 1ms/step - loss: 0.2067\n",
      "Epoch 46/75\n",
      "151/151 [==============================] - 0s 2ms/step - loss: 0.2047\n",
      "Epoch 47/75\n",
      "151/151 [==============================] - 0s 1ms/step - loss: 0.2029\n",
      "Epoch 48/75\n",
      "151/151 [==============================] - 0s 1ms/step - loss: 0.2003\n",
      "Epoch 49/75\n",
      "151/151 [==============================] - 0s 2ms/step - loss: 0.1983\n",
      "Epoch 50/75\n",
      "151/151 [==============================] - 0s 2ms/step - loss: 0.1965\n",
      "Epoch 51/75\n",
      "151/151 [==============================] - 0s 2ms/step - loss: 0.1946\n",
      "Epoch 52/75\n",
      "151/151 [==============================] - 0s 2ms/step - loss: 0.1929\n",
      "Epoch 53/75\n",
      "151/151 [==============================] - 0s 2ms/step - loss: 0.1912\n",
      "Epoch 54/75\n",
      "151/151 [==============================] - 0s 1ms/step - loss: 0.1893\n",
      "Epoch 55/75\n",
      "151/151 [==============================] - 0s 1ms/step - loss: 0.1876\n",
      "Epoch 56/75\n",
      "151/151 [==============================] - 0s 1ms/step - loss: 0.1861\n",
      "Epoch 57/75\n",
      "151/151 [==============================] - 0s 1ms/step - loss: 0.1847\n",
      "Epoch 58/75\n",
      "151/151 [==============================] - 0s 1ms/step - loss: 0.1831\n",
      "Epoch 59/75\n",
      "151/151 [==============================] - 0s 2ms/step - loss: 0.1812\n",
      "Epoch 60/75\n",
      "151/151 [==============================] - 0s 2ms/step - loss: 0.1799\n",
      "Epoch 61/75\n",
      "151/151 [==============================] - 0s 1ms/step - loss: 0.1785\n",
      "Epoch 62/75\n",
      "151/151 [==============================] - 0s 2ms/step - loss: 0.1769\n",
      "Epoch 63/75\n",
      "151/151 [==============================] - 0s 2ms/step - loss: 0.1756\n",
      "Epoch 64/75\n",
      "151/151 [==============================] - 0s 1ms/step - loss: 0.1746\n",
      "Epoch 65/75\n",
      "151/151 [==============================] - 0s 1ms/step - loss: 0.1731\n",
      "Epoch 66/75\n",
      "151/151 [==============================] - 0s 2ms/step - loss: 0.1717\n",
      "Epoch 67/75\n",
      "151/151 [==============================] - 0s 1ms/step - loss: 0.1708\n",
      "Epoch 68/75\n",
      "151/151 [==============================] - 0s 2ms/step - loss: 0.1695\n",
      "Epoch 69/75\n",
      "151/151 [==============================] - 0s 2ms/step - loss: 0.1685\n",
      "Epoch 70/75\n",
      "151/151 [==============================] - 0s 2ms/step - loss: 0.1673\n",
      "Epoch 71/75\n",
      "151/151 [==============================] - 0s 2ms/step - loss: 0.1663\n",
      "Epoch 72/75\n",
      "151/151 [==============================] - 0s 2ms/step - loss: 0.1653\n",
      "Epoch 73/75\n",
      "151/151 [==============================] - 0s 2ms/step - loss: 0.1642\n",
      "Epoch 74/75\n",
      "151/151 [==============================] - 0s 2ms/step - loss: 0.1633\n",
      "Epoch 75/75\n",
      "151/151 [==============================] - 0s 2ms/step - loss: 0.1624\n"
     ]
    },
    {
     "data": {
      "text/plain": [
       "<keras.callbacks.callbacks.History at 0x159b3b2e8>"
      ]
     },
     "execution_count": 183,
     "metadata": {},
     "output_type": "execute_result"
    }
   ],
   "source": [
    "model.fit(pokemon, pokemon, epochs=75)"
   ]
  },
  {
   "cell_type": "code",
   "execution_count": 184,
   "metadata": {},
   "outputs": [],
   "source": [
    "from keras import Input\n",
    "\n",
    "input_layer = Input(shape=pokemon[0].shape)\n",
    "encoder_0 = model.layers[0]\n",
    "encoder_1 = model.layers[1]\n",
    "encoder_2 = model.layers[2]\n",
    "decoder_1 = model.layers[3]\n",
    "decoder_2 = model.layers[4]\n",
    "output_layer = model.layers[5]"
   ]
  },
  {
   "cell_type": "code",
   "execution_count": 185,
   "metadata": {},
   "outputs": [
    {
     "name": "stdout",
     "output_type": "stream",
     "text": [
      "Model: \"model_9\"\n",
      "_________________________________________________________________\n",
      "Layer (type)                 Output Shape              Param #   \n",
      "=================================================================\n",
      "input_8 (InputLayer)         (None, 64, 64, 4)         0         \n",
      "_________________________________________________________________\n",
      "reshape_16 (Reshape)         (None, 16384)             0         \n",
      "_________________________________________________________________\n",
      "dense_32 (Dense)             (None, 128)               2097280   \n",
      "_________________________________________________________________\n",
      "dense_33 (Dense)             (None, 64)                8256      \n",
      "=================================================================\n",
      "Total params: 2,105,536\n",
      "Trainable params: 2,105,536\n",
      "Non-trainable params: 0\n",
      "_________________________________________________________________\n"
     ]
    }
   ],
   "source": [
    "from keras import Model\n",
    "\n",
    "encoder = Model(input_layer, encoder_2(encoder_1(encoder_0(input_layer))))\n",
    "\n",
    "encoder.summary()"
   ]
  },
  {
   "cell_type": "code",
   "execution_count": 187,
   "metadata": {},
   "outputs": [
    {
     "name": "stdout",
     "output_type": "stream",
     "text": [
      "Model: \"model_10\"\n",
      "_________________________________________________________________\n",
      "Layer (type)                 Output Shape              Param #   \n",
      "=================================================================\n",
      "input_10 (InputLayer)        (None, 64)                0         \n",
      "_________________________________________________________________\n",
      "dense_34 (Dense)             (None, 128)               8320      \n",
      "_________________________________________________________________\n",
      "dense_35 (Dense)             (None, 16384)             2113536   \n",
      "_________________________________________________________________\n",
      "reshape_17 (Reshape)         (None, 64, 64, 4)         0         \n",
      "=================================================================\n",
      "Total params: 2,121,856\n",
      "Trainable params: 2,121,856\n",
      "Non-trainable params: 0\n",
      "_________________________________________________________________\n"
     ]
    }
   ],
   "source": [
    "decoder_input = Input((64, ))\n",
    "decoder = Model(decoder_input, output_layer(decoder_2(decoder_1(decoder_input))))\n",
    "\n",
    "decoder.summary()"
   ]
  },
  {
   "cell_type": "code",
   "execution_count": 241,
   "metadata": {},
   "outputs": [
    {
     "data": {
      "image/png": "[encoded data removed]",
      "text/plain": [
       "<Figure size 720x720 with 4 Axes>"
      ]
     },
     "metadata": {
      "needs_background": "light"
     },
     "output_type": "display_data"
    }
   ],
   "source": [
    "i = 40\n",
    "\n",
    "original = pokemon[i].reshape(bulbasaur.shape)\n",
    "\n",
    "noisy = original# + np.random.normal(size=(64, 64, 1), loc=0.5, scale=.0001)\n",
    "noisy = np.clip(noisy, 0, 1)\n",
    "encoded = encoder.predict(noisy.reshape(1, *bulbasaur.shape)).reshape(8, 8)\n",
    "decoded = model.predict(noisy.reshape(1, *bulbasaur.shape)).reshape(bulbasaur.shape)\n",
    "\n",
    "plt.figure(1, figsize=(10, 10))\n",
    "plt.subplot(141)\n",
    "plt.imshow(original)\n",
    "\n",
    "plt.subplot(142)\n",
    "plt.imshow(noisy)\n",
    "\n",
    "plt.subplot(143)\n",
    "plt.imshow(decoded)\n",
    "\n",
    "plt.subplot(144)\n",
    "plt.imshow(encoded)\n",
    "\n",
    "plt.show()"
   ]
  },
  {
   "cell_type": "code",
   "execution_count": 178,
   "metadata": {},
   "outputs": [
    {
     "ename": "ValueError",
     "evalue": "operands could not be broadcast together with shapes (1,16) (64,64,4) ",
     "output_type": "error",
     "traceback": [
      "\u001b[0;31m---------------------------------------------------------------------------\u001b[0m",
      "\u001b[0;31mValueError\u001b[0m                                Traceback (most recent call last)",
      "\u001b[0;32m<ipython-input-178-b38160e16f5b>\u001b[0m in \u001b[0;36m<module>\u001b[0;34m\u001b[0m\n\u001b[1;32m      1\u001b[0m \u001b[0mv\u001b[0m \u001b[0;34m=\u001b[0m \u001b[0mnp\u001b[0m\u001b[0;34m.\u001b[0m\u001b[0mrandom\u001b[0m\u001b[0;34m.\u001b[0m\u001b[0mrandom\u001b[0m\u001b[0;34m(\u001b[0m\u001b[0msize\u001b[0m\u001b[0;34m=\u001b[0m\u001b[0;34m(\u001b[0m\u001b[0;36m1\u001b[0m\u001b[0;34m,\u001b[0m \u001b[0;36m16\u001b[0m\u001b[0;34m)\u001b[0m\u001b[0;34m)\u001b[0m\u001b[0;34m\u001b[0m\u001b[0m\n\u001b[1;32m      2\u001b[0m \u001b[0;34m\u001b[0m\u001b[0m\n\u001b[0;32m----> 3\u001b[0;31m \u001b[0mplt\u001b[0m\u001b[0;34m.\u001b[0m\u001b[0mimshow\u001b[0m\u001b[0;34m(\u001b[0m\u001b[0mdecoder\u001b[0m\u001b[0;34m.\u001b[0m\u001b[0mpredict\u001b[0m\u001b[0;34m(\u001b[0m\u001b[0mv\u001b[0m \u001b[0;34m+\u001b[0m \u001b[0moriginal\u001b[0m\u001b[0;34m)\u001b[0m\u001b[0;34m.\u001b[0m\u001b[0mreshape\u001b[0m\u001b[0;34m(\u001b[0m\u001b[0;36m64\u001b[0m\u001b[0;34m,\u001b[0m \u001b[0;36m64\u001b[0m\u001b[0;34m,\u001b[0m \u001b[0;36m4\u001b[0m\u001b[0;34m)\u001b[0m\u001b[0;34m)\u001b[0m\u001b[0;34m\u001b[0m\u001b[0m\n\u001b[0m",
      "\u001b[0;31mValueError\u001b[0m: operands could not be broadcast together with shapes (1,16) (64,64,4) "
     ]
    }
   ],
   "source": [
    "v = np.random.random(size=(1, 16))"
   ]
  }
 ],
 "metadata": {
  "kernelspec": {
   "display_name": "SabrinAI",
   "language": "python",
   "name": "sabrinai"
  },
  "language_info": {
   "codemirror_mode": {
    "name": "ipython",
    "version": 3
   },
   "file_extension": ".py",
   "mimetype": "text/x-python",
   "name": "python",
   "nbconvert_exporter": "python",
   "pygments_lexer": "ipython3",
   "version": "3.6.6"
  }
 },
 "nbformat": 4,
 "nbformat_minor": 2
}
